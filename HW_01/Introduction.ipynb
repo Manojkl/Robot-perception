{
 "cells": [
  {
   "cell_type": "markdown",
   "metadata": {
    "deletable": false,
    "editable": false,
    "nbgrader": {
     "cell_type": "markdown",
     "checksum": "dc8c5bb48c035f0e7246c834c30bc4de",
     "grade": false,
     "grade_id": "cell-664ecbca4b7c23d8",
     "locked": true,
     "schema_version": 3,
     "solution": false,
     "task": false
    }
   },
   "source": [
    "<div class=\"alert alert-block alert-danger\">\n",
    "\n",
    "# Robot Perception SS20\n",
    "# HW-01 Introduction \n",
    "\n",
    "\n",
    "</div>"
   ]
  },
  {
   "cell_type": "markdown",
   "metadata": {},
   "source": [
    "### Matriculation number: 9038585 \n",
    "### Name: Manoj Kolpe Lingappa\n",
    "### Matriculation number: 9038583\n",
    "### Name: Aswinkumar Vijayananth"
   ]
  },
  {
   "cell_type": "markdown",
   "metadata": {
    "deletable": false,
    "editable": false,
    "nbgrader": {
     "cell_type": "markdown",
     "checksum": "4e888fd7d358b0714b9eab32b0396ce2",
     "grade": false,
     "grade_id": "task1_description",
     "locked": true,
     "schema_version": 3,
     "solution": false,
     "task": false
    }
   },
   "source": [
    "## 1. Pose 3 questions to last lecture"
   ]
  },
  {
   "cell_type": "markdown",
   "metadata": {},
   "source": [
    "1. Z=0 refers to the Focal Plane. How can a point with Z=0 can lie at infinity?\n",
    "\n",
    "2. Could you describe Point-Line Duality in Projective Geometry, especially how these entities can be interchangeably represented as vectors?\n",
    "\n",
    "3. Phrase in slide 38 \"number If the space points are coplanar then there is a projective transformation between      the world and image planes,xi = H3X3 Xi\" What is h3x3 called? why is it 3x3 matrix?\n",
    "4. Difference between perspective projection and projective transformation?"
   ]
  },
  {
   "cell_type": "markdown",
   "metadata": {
    "deletable": false,
    "editable": false,
    "nbgrader": {
     "cell_type": "markdown",
     "checksum": "af475391f11d9f406223fc5fb77159f2",
     "grade": false,
     "grade_id": "task2_description",
     "locked": true,
     "schema_version": 3,
     "solution": false,
     "task": false
    }
   },
   "source": [
    "## 2. When defining projective space $IP^2$ what is the difference between\n",
    "#### a. $[x,y,z]^T [u,v,w]^T$ are called equivalent iff ∃ $\\lambda > 0 : \\lambda [x,y,z]^T = [u,v,w]^T$ and\n",
    "#### b. $[x,y,z]^T [u,v,w]^T$ are called equivalent iff ∃ $\\lambda \\neq 0 : \\lambda [x,y,z]^T = [u,v,w]^T$\n",
    "\n",
    "what is correct?"
   ]
  },
  {
   "cell_type": "markdown",
   "metadata": {
    "deletable": false,
    "nbgrader": {
     "cell_type": "markdown",
     "checksum": "ba1cf76b14c360d045f0c1aeff3edb50",
     "grade": true,
     "grade_id": "task2",
     "locked": false,
     "points": 2,
     "schema_version": 3,
     "solution": true,
     "task": false
    }
   },
   "source": [
    "So the difference is in first case allows only positive scaling of point (x,y,z). i.e the the scaled new point (u,v,w) has to be infront of the plane with some minimum positive distance. While the second case scaling of (x,y,z) point can be positive or negative(i.e new point (u,v,w) can be infront of plane or behind the plane) but can't be equal to zero.\n",
    "\n",
    "case (b) is correct, because we can scale the point (x,y,z) positively or negatively by maintaining the fact that two represent the same projection on the plane. However when we consider the lens of camera negatively scaled point doesn't make any sense."
   ]
  },
  {
   "cell_type": "markdown",
   "metadata": {
    "deletable": false,
    "editable": false,
    "nbgrader": {
     "cell_type": "markdown",
     "checksum": "486b0f708c8c85829ceece87f2a5f7a4",
     "grade": false,
     "grade_id": "task3_description",
     "locked": true,
     "schema_version": 3,
     "solution": false,
     "task": false
    }
   },
   "source": [
    "## 3. The Cross Ratio under projections is invariant\n",
    "This figure illustrates a mapping from domain space IP1 (thick line) to target space IP1 (thick line) via a projective map (thin lines) intersecting in the focal point on the left. The points A,B,C,D get mapped to A‘,B‘,C‘,D‘ In the domain space we find those Points via a one dimensional coordinate called λ in taget space λ’ respcetively. For the definition of f see over next slide.\n",
    "\n",
    "<img src=\"./data/task_3_1.png\" width=\"400\"/>\n",
    "\n",
    "$\\textbf{Prove this equality!}$\n",
    "\n",
    "<img src=\"./data/task_3_2.png\" width=\"400\"/>\n",
    "\n",
    "### Finding $f(\\lambda): IP^1 \\rightarrow IP^1$\n",
    "From lecture slide 35 a projective map from $IP^1 \\rightarrow IP^1$ is a matrix  $H = \\begin{bmatrix} a & b \\\\c & d\\end{bmatrix}$(in 2D):\n",
    "\n",
    "$$\\begin{bmatrix}x\\\\y \\end{bmatrix} = \n",
    "\\begin{bmatrix}a & b\\\\\n",
    "               c & d\n",
    "\\end{bmatrix}\n",
    "\\begin{bmatrix}\n",
    "    x\\\\\n",
    "    y\n",
    "\\end{bmatrix} =\n",
    "\\begin{bmatrix}\n",
    "    ax + by\\\\\n",
    "    cx + dy\n",
    "\\end{bmatrix}\n",
    "$$ \n",
    "\n",
    "so in homogenous coordinate\n",
    "$\n",
    "\\begin{bmatrix}\n",
    "    x\\\\\n",
    "    1\n",
    "\\end{bmatrix}\n",
    "$\n",
    "is mapped to $\\begin{bmatrix}\n",
    "    ax+b\\\\\n",
    "    cx+d\n",
    "\\end{bmatrix}$ $\\sim \\begin{bmatrix} \\frac{ax+b}{cx+d} \\\\1\\end{bmatrix}$\n",
    "\n",
    "when looking at the first coordinate only:\n",
    "$$ f(x) = \\frac{ax+b}{cx+d}$$"
   ]
  },
  {
   "cell_type": "markdown",
   "metadata": {
    "deletable": false,
    "nbgrader": {
     "cell_type": "markdown",
     "checksum": "78818c0cda584edd4fe3e0042d46f00c",
     "grade": true,
     "grade_id": "task3",
     "locked": false,
     "points": 2,
     "schema_version": 3,
     "solution": true,
     "task": false
    }
   },
   "source": [
    "#### Cross Ratio is a property of a set of four collinear points which is invariant to projective transformations. The property exists for lines also. This is due to the dual nature of points and lines in  Projective Geometry. Following is the proof:\n",
    "\n",
    "Let us assume that m and n to be one dimesional ccordinates of points M and N undergoing the given transformation\n",
    "\n",
    "$f(x)$ respectively.\n",
    "\n",
    "For the ease of calculation let us first find:\n",
    "    \n",
    "   $ f(m)-f(n) = \\frac{am+b}{cm+d} - \\frac{an+b}{cn+d}\\\\\n",
    "   =\\frac{(am+b)\\times (cn+d) - (an+b)\\times (cm+d)}{(cm+d)\\times (cn+d)}$\n",
    "   \n",
    "   After Simplification,\n",
    "  $\\begin{equation} \n",
    "  f(m) - f(n)  = f(m-n) = \\frac{(ad-bc)\\times (m-n)}{(cm+d)\\times (cn+d)}\\tag{1}\n",
    "  \\end{equation}$\n",
    "  \n",
    "  Now finding cross-ratio for the transformed points \n",
    "  \n",
    "  Substituting (1)\n",
    "  \n",
    "  $\\begin{equation}\n",
    "  \\frac{(f(\\lambda_{C})-f(\\lambda_{A}))(f(\\lambda_{D})-f(\\lambda_{B}))}{(f(\\lambda_{C})-f(\\lambda_{B}))(f(\\lambda_{D})-f(\\lambda_{A}))}=\n",
    "  \\frac{(\\frac{(ad-bc)\\times (\\lambda_{C}-\\lambda_{A})}{(c\\lambda_{C}+d)\\times (c\\lambda_{A}+d)})\n",
    "  (\\frac{(ad-bc)\\times (\\lambda_{D}-\\lambda_{B})}{(c\\lambda_{D}+d)\\times (c\\lambda_{B}+d)})}\n",
    "  {(\\frac{(ad-bc)\\times (\\lambda_{C}-\\lambda_{B})}{(c\\lambda_{C}+d)\\times (c\\lambda_{B}+d)})\n",
    "  (\\frac{(ad-bc)\\times (\\lambda_{D}-\\lambda_{A})}{(c\\lambda_{D}+d)\\times (c\\lambda_{A}+d)})}\\\\\n",
    "  \\text{After cancelling common terms we get,}\\\\\n",
    "  = \\frac{(\\lambda_{C} - \\lambda_{A})(\\lambda_{D} - \\lambda_{B})}{(\\lambda_{D} - \\lambda_{A})(\\lambda_{C} - \\lambda_{B})} \n",
    "  \\end{equation}$\n",
    "  This means the cross ratio of the collinear points ABCD is preserved after the transformation $f(x)$. Hence, the equality is proved.\n",
    "\n",
    "OR\n",
    "\n",
    "Cross ratio is invariate under projective transformation of the line, $ \\bar x' = H_{2x2} \\bar x $\n",
    "\n",
    "Cross($\\bar x'_1,\\bar x'_2,\\bar x'_3,\\bar x'_4$) = Cross($\\bar x_1,\\bar x_2,\\bar x_3,\\bar x_4$)\n",
    "\n",
    "Cross($\\bar x_1,\\bar x_2,\\bar x_3,\\bar x_4$) = $ \\frac{|\\bar x_3\\bar x_1||\\bar x_4\\bar x_2|}{|\\bar x_3\\bar x_2||\\bar x_4\\bar x_1|} $\n",
    "\n",
    "where $|\\bar x_i \\bar x_j| = (x_{i1}*x_{j2}) - (x_{j1}*x_{i2}) $\n",
    "\n",
    "($f(\\lambda_A),f(\\lambda_B),f(\\lambda_C),f(\\lambda_D)$) = Cross($\\lambda_A,\\lambda_B,\\lambda_C,\\lambda_D$)\n",
    "\n",
    "Cross($f(\\lambda_A),f(\\lambda_B),f(\\lambda_C),f(\\lambda_D)$) = $ \\frac{|f(\\lambda_C)f(\\lambda_A)||f(\\lambda_D)f(\\lambda_B)|}{|f(\\lambda_C)f(\\lambda_B)||f(\\lambda_D)f(\\lambda_A)|} $\n",
    "\n",
    "$ f(\\lambda) = \\frac{a\\lambda+b}{c\\lambda+d}$\n",
    "\n",
    "$ f(\\lambda_C) = \\frac{a\\lambda_C+b}{c\\lambda_C+d}$\n",
    "$ f(\\lambda_A) = \\frac{a\\lambda_A+b}{c\\lambda_A+d}$\n",
    "$ f(\\lambda_D) = \\frac{a\\lambda_D+b}{c\\lambda_D+d}$\n",
    "$ f(\\lambda_B) = \\frac{a\\lambda_B+b}{c\\lambda_B+d}$\n",
    "\n",
    "$ |f(\\lambda_C)f(\\lambda_A)| = \n",
    "\\begin{vmatrix}\n",
    "\\frac{a\\lambda_C+b}{c\\lambda_C+d} & \\frac{a\\lambda_A+b}{c\\lambda_A+d}  \\\\  \n",
    "1 & 1  \\notag\n",
    "\\end{vmatrix} = \\frac{a\\lambda_C+b}{c\\lambda_C+d} - \\frac{a\\lambda_A+b}{c\\lambda_A+d}$ \n",
    "\n",
    "$ |f(\\lambda_D)f(\\lambda_B)| = \n",
    "\\begin{vmatrix}\n",
    "\\frac{a\\lambda_D+b}{c\\lambda_D+d} & \\frac{a\\lambda_B+b}{c\\lambda_B+d}  \\\\  \n",
    "1 & 1  \\notag\n",
    "\\end{vmatrix} = \\frac{a\\lambda_D+b}{c\\lambda_D+d} - \\frac{a\\lambda_B+b}{c\\lambda_B+d}$\n",
    "\n",
    "$ |f(\\lambda_D)f(\\lambda_A)| = \n",
    "\\begin{vmatrix}\n",
    "\\frac{a\\lambda_D+b}{c\\lambda_D+d} & \\frac{a\\lambda_A+b}{c\\lambda_A+d}  \\\\  \n",
    "1 & 1  \\notag\n",
    "\\end{vmatrix} = \\frac{a\\lambda_D+b}{c\\lambda_D+d} - \\frac{a\\lambda_A+b}{c\\lambda_A+d}$\n",
    "\n",
    "$ |f(\\lambda_C)f(\\lambda_B)| = \n",
    "\\begin{vmatrix}\n",
    "\\frac{a\\lambda_C+b}{c\\lambda_C+d} & \\frac{a\\lambda_B+b}{c\\lambda_B+d}  \\\\  \n",
    "1 & 1  \\notag\n",
    "\\end{vmatrix} = \\frac{a\\lambda_C+b}{c\\lambda_C+d} - \\frac{a\\lambda_B+b}{c\\lambda_B+d}$\n",
    "\n",
    "Subtituting the above values in the equation for cross ration we get below expression which is the the equality we wanted to prove.\n",
    "\n",
    "Cross($f(\\lambda_A),f(\\lambda_B),f(\\lambda_C),f(\\lambda_D)$) = $\\frac{(\\lambda_C - \\lambda_A)(ad-bc)(\\lambda_D - \\lambda_B)(ad-bc)}{(\\lambda_C - \\lambda_B)(ad-bc)(\\lambda_D - \\lambda_A)(ad-bc)}$ = $\\frac{(\\lambda_C - \\lambda_A)(\\lambda_D - \\lambda_B)}{(\\lambda_D - \\lambda_A)(\\lambda_C - \\lambda_B)}$ = $Cross(\\lambda_A,\\lambda_B,\\lambda_C,\\lambda_D)$"
   ]
  },
  {
   "cell_type": "markdown",
   "metadata": {
    "deletable": false,
    "editable": false,
    "nbgrader": {
     "cell_type": "markdown",
     "checksum": "63e1d73f9479b3d15a32aa760559e5d5",
     "grade": false,
     "grade_id": "task4_description",
     "locked": true,
     "schema_version": 3,
     "solution": false,
     "task": false
    }
   },
   "source": [
    "## 4. Read and sum up (mindmap or alike):\n",
    "Appendix 23: Projective Geometry for Machine Vision (1992), by Joseph L. Mundy , Andrew Zisserman 23.1.-23.5"
   ]
  },
  {
   "cell_type": "markdown",
   "metadata": {
    "deletable": false,
    "nbgrader": {
     "cell_type": "markdown",
     "checksum": "41b273381b412ef70cb617cf45848367",
     "grade": true,
     "grade_id": "task4",
     "locked": false,
     "points": 2,
     "schema_version": 3,
     "solution": true,
     "task": false
    }
   },
   "source": [
    "<img src=\"./data/mind_map.png\"/>\n",
    "\n",
    "* Projective geometry comes from synthetic point of view. \n",
    "* Mathematicians look for setting up the axiomatic structure of the projective plane then explore the logical implication of the structure.\n",
    "* Analytic projective geometry is analogous to analytical euclidean geometry.\n",
    "* Main idea behind the analytic method is to first introduce the coordinate and then define geometric entities as equations. \n",
    "* Projective geometry in vision:\n",
    "* Previous work involved 2D homogeneous projective transformation matrices to represent the imaging of 3D polyhedral objects. \n",
    "* Projective geometry properties are derived however these properties are not helpful in finding the solution for generic problems. Such as cross ratio that is not helpful in finding the solution to core machine vision problems.\n",
    "* The relationship between geometry viewing and homogeneous transformation matrix is used in stereo and photogrammetry.\n",
    "* There is a need for projective geometry because euclidean geometry does not incorporate important phenomena with compact.  \n",
    "* As per projective geometry parallel points meet at infinity called vanishing points. \n",
    "* Collinearity, tangency and incidence conditions, such as intersection and concurrence properties are unaffected in projective geometry from euclidean geometry. \n",
    "* Homogeneous coordinates represent the projective transformation as a matrix multiplication. \n",
    "* Projective transformation matrix is found for polyhedral models given a set for 3D points and their images location.\n",
    "* Plane orientation from vanishing point is found.  \n",
    "* When the camera moves from one place to another the trajectories of image points tend to move towards or away from a fixed point known as the focus of expansion(FOC).\n",
    "* Once the transformation due to camera motion is known, 3D position of the points can be recovered.\n",
    "* There are projective invariants under transformation.\n",
    "* Neither distance nor ratio of distances are preserved under perspective viewing.\n",
    "* All image points are collinear(lying in the same straight line) with the eyepoint and world point.\n",
    "* Set of lines parallel in space form a set of concurrent(set of lines intersect) lines which intersect at the vanishing point.\n",
    "* Two vanishing points define a line called the horizon line. The shape of general curved boundaries under prospective is approximated to a polygon with each edge direction of the polygon having a vanishing point on the horizon line.\n",
    "* The area ration is not preserved under projection. \n",
    "* For the circle line the centre is not conserved.\n",
    "* Three vanishing points are required for the edge of the cube( three dimensions). \n",
    "* Symmetry is lost under perspective view.\n",
    "* What will happen if the projection of the original image itself has a projection. For ex. Image of a room having a picture on the wall. Original image is the shadow of a person.\n",
    "* There is no perspective geometry which will project the original shape S onto the image of its shadow, sigma. That means it is impossible to find any configuration of the centre of projection and the image plane which will map S to sigma.\n",
    "* Perspective Projection calculates the perspective view (i.e., foreshortening) of a 3D object onto a 2D projection plane. The effect of viewing in perspective is achieved, and, of course, the z-values (depth information) are discarded in the process.\n",
    "* The Projective Transformation allows us to see how the perspectively foreshortened and projected polygons will overlap, without discarding the z-values (which we need to use later for depth comparison).\n",
    "* Any perspective projection can be represented by a projective transformation.\n",
    "* Any projective transformation can be decomposed into two perspective transformations. \n",
    "* Projective plane is a mathematical concept intended to model the geometric properties of sequences of one or more perspective projections. \n"
   ]
  },
  {
   "cell_type": "markdown",
   "metadata": {},
   "source": [
    "### References:\n",
    "\n",
    "[1]. https://www.cs.cmu.edu/~ph/869/papers/zisser-mundy.pdf \n",
    "\n",
    "[2]. https://www.youtube.com/watch?v=ffvojZONF_A \n",
    "\n",
    "[3]. https://math.stackexchange.com/questions/625578/invariance-of-cross-ratio-under-m%C3%B6bius-transformation-and-another-problem-relate\n",
    "\n",
    "[4]. https://www.cut-the-knot.org/pythagoras/Cross-Ratio.shtml#Wells"
   ]
  },
  {
   "cell_type": "code",
   "execution_count": null,
   "metadata": {},
   "outputs": [],
   "source": []
  }
 ],
 "metadata": {
  "kernelspec": {
   "display_name": "Python 3",
   "language": "python",
   "name": "python3"
  },
  "language_info": {
   "codemirror_mode": {
    "name": "ipython",
    "version": 3
   },
   "file_extension": ".py",
   "mimetype": "text/x-python",
   "name": "python",
   "nbconvert_exporter": "python",
   "pygments_lexer": "ipython3",
   "version": "3.7.5"
  },
  "nbTranslate": {
   "displayLangs": [
    "*"
   ],
   "hotkey": "alt-t",
   "langInMainMenu": true,
   "sourceLang": "en",
   "targetLang": "fr",
   "useGoogleTranslate": true
  }
 },
 "nbformat": 4,
 "nbformat_minor": 4
}
