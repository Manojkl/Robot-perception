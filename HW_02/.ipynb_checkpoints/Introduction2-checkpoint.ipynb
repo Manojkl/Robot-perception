{
 "cells": [
  {
   "cell_type": "markdown",
   "metadata": {
    "deletable": false,
    "editable": false,
    "nbgrader": {
     "cell_type": "markdown",
     "checksum": "f4ab68d8aa88542b7c4bd8ef89666bf5",
     "grade": false,
     "grade_id": "cell-95ba40ad3c8cbe21",
     "locked": true,
     "schema_version": 3,
     "solution": false,
     "task": false
    }
   },
   "source": [
    "<div class=\"alert alert-block alert-danger\">\n",
    "\n",
    "# Robot Perception SS20\n",
    "<br>\n",
    "    \n",
    "# HW-02 Introduction 2\n",
    "\n",
    "\n",
    "</div>"
   ]
  },
  {
   "cell_type": "markdown",
   "metadata": {},
   "source": [
    "<div class=\"alert alert-block alert-danger\"/> \n",
    "\n",
    "#### Matriculation number\n",
    "    \n",
    "<em> Add your matriculation number here as well as your partners' if you work in a group.</em>\n",
    "    \n",
    "1. ___\n",
    "\n",
    "2. ___"
   ]
  },
  {
   "cell_type": "markdown",
   "metadata": {
    "deletable": false,
    "editable": false,
    "nbgrader": {
     "cell_type": "markdown",
     "checksum": "f32e358a9dded7da20020f04b9643580",
     "grade": false,
     "grade_id": "task1_description",
     "locked": true,
     "schema_version": 3,
     "solution": false,
     "task": false
    }
   },
   "source": [
    "## 1. Pose 3 questions to lecture (including answers) "
   ]
  },
  {
   "cell_type": "markdown",
   "metadata": {},
   "source": [
    "1. Why any invertible linear transformation of homogeneous coordinates is a projectivity.\n",
    " \n",
    "   Let x1, x2 and x3 lie on a line l. Thus $ l^Txi = 0$  for i = 1, . . . , 3. Let H be a\n",
    "   non-singular 3 × 3 matrix. One verifies that $ l^TH^−1Hx_i = 0$ . Thus, the points $Hx_i$ all lie\n",
    "   on the line $H^−Tl$, and collinearity is preserved by the transformation.\n",
    "\n",
    "\n",
    "2. Why matrix H has eight degress of freedom?\n",
    "   \n",
    "   There are eight independent ratios amongst the nine elements of H, and it follows that a projective                transformation has eight degrees of freedom. Ninth term is used for the normalization purpose.\n",
    "\n",
    "\n",
    "3. Why length ratios and angles between lines are not preserved under an affinity?\n",
    "   \n",
    "   Because an affine transformation includes non-isotropic scaling, the similarity invariants of length ratios and    angles between lines are not preserved under an affinity."
   ]
  },
  {
   "cell_type": "markdown",
   "metadata": {
    "deletable": false,
    "editable": false,
    "nbgrader": {
     "cell_type": "markdown",
     "checksum": "9941d6cdf13735b1a87ee7908fc323b3",
     "grade": false,
     "grade_id": "task2_description",
     "locked": true,
     "schema_version": 3,
     "solution": false,
     "task": false
    }
   },
   "source": [
    "## 2. Read MVG / Hartley, Zisserman, 2.2, 2.3, 2.5., 2.7, 2.8, 2.9 "
   ]
  },
  {
   "cell_type": "code",
   "execution_count": null,
   "metadata": {},
   "outputs": [],
   "source": []
  },
  {
   "cell_type": "markdown",
   "metadata": {
    "deletable": false,
    "editable": false,
    "nbgrader": {
     "cell_type": "markdown",
     "checksum": "b57ce965c6bc984f458857cc714e6c34",
     "grade": false,
     "grade_id": "task3_description",
     "locked": true,
     "schema_version": 3,
     "solution": false,
     "task": false
    }
   },
   "source": [
    "## 3. Solve ANY two from 2.10.2"
   ]
  },
  {
   "cell_type": "markdown",
   "metadata": {
    "deletable": false,
    "editable": false,
    "nbgrader": {
     "cell_type": "markdown",
     "checksum": "bae0b82420f38ecf8d8beaf43dc68d10",
     "grade": false,
     "grade_id": "task3a_description",
     "locked": true,
     "schema_version": 3,
     "solution": false,
     "task": false
    }
   },
   "source": [
    "### a."
   ]
  },
  {
   "cell_type": "markdown",
   "metadata": {},
   "source": [
    "### a)  The cross ratio. Prove the invariance of the cross ratio of four collinear points under projective transformations of the line (2.18–p45)."
   ]
  },
  {
   "cell_type": "markdown",
   "metadata": {
    "deletable": false,
    "nbgrader": {
     "cell_type": "markdown",
     "checksum": "d2f2cb93d78b19a0d9ac67511c3fd2b8",
     "grade": true,
     "grade_id": "task3a",
     "locked": false,
     "points": 2,
     "schema_version": 3,
     "solution": true,
     "task": false
    }
   },
   "source": [
    "Suppose that A,B,C,D are distinct collinear p-points, and that a,b,c,d are chosen\n",
    "so that A=[a], B = [b], C = [c] and D = [d]. Then we have\n",
    "(1) There exist unique non-zero real numbers α,β,γ and δ such that c = αa + βb, and d = γa + δb.\n",
    "(2) The ratio βγ/αδ does not depend on the choice of a,b,c,d.\n",
    "\n",
    "a p-line L is represented by a plane Π through the origin in R3. A p-point A = [a] lies on L if and only if a lies on Π. If B = [b] and C = [c] also lie on L, i.e. A,B,C are collinear p-points, then a, b and c lie on Π. Provided that A ≠ B, {a, b} is a basis for Π, so that there exist unique real numbers α and β with c = αa + βb.\n",
    "\n",
    "Suppose that we choose other vectors a',b',c',d' with\n",
    "A = [a'], B = [b'], C = [c'] and D = [d'].\n",
    "Then there are non-zero numbers k,l,m,n such that\n",
    "a' = ka, b' = lb, c' = mc and d' = nd.\n",
    "Substituting from these into the equalities in (1), we get\n",
    "c' = (mα/k)a + (mβ/l)b, and d = (nγ/k)a + (nδ/l)b\n",
    "Using these, the required ratio is (mβ/l)(nγ/k)/(mα/k)(nδ/l) = βγ/αδ.\n",
    "Thus, the value obtained is independent of the choice of vectors."
   ]
  },
  {
   "cell_type": "markdown",
   "metadata": {},
   "source": [
    "Suppose that A is a p-point. This is represented by a line through the origin\n",
    "in R3. If a is a direction vector for this line, then, as an element of RP2,\n",
    "A = [a] . Of course, we could replace a by a', where a' = λa for any non-zero\n",
    "real number λ.\n",
    "\n",
    "Also, a p-line L is represented by a plane Π through the origin in R3. A p-point\n",
    "A = [a] lies on L if and only if a lies on Π. If B = [b] and C = [c] also lie on L,\n",
    "i.e. A,B,C are collinear p-points, then a, b and c lie on Π. Provided that A ≠ B,\n",
    "{a, b} is a basis for Π, so that there exist unique real numbers α and β with\n",
    "c = αa + βb.\n",
    "\n",
    "Suppose that A = [a], B = [b], C = [c] and D = [d] are distinct, collinear p-points,\n",
    "and that t is a projective transformation.\n",
    "As t is projective, A' = t(A), B' = t(B), C' = t(C) and D' = t(D) are distinct and collinear.\n",
    "\n",
    "Now, t has the form t([x]) = [Mx], where M is a non-singular 3x3 matrix, so we have\n",
    "A' = [Ma], B' = [Mb], C' = [Mc] and D' = [Md].\n",
    "\n",
    "As in the porism, c = αa + βb, and d = γa + δb.\n",
    "The map x -> Mx is linear, so that Mc = αMa + βMb, and Md = γMa + δMb\n",
    "Hence the ratio for (A',B',C',D') is βγ/αδ, i.e. is equal to that for (A,B,C,D)."
   ]
  },
  {
   "cell_type": "markdown",
   "metadata": {
    "deletable": false,
    "editable": false,
    "nbgrader": {
     "cell_type": "markdown",
     "checksum": "d248f7925ddacb30c23a5b35c97e4f60",
     "grade": false,
     "grade_id": "task3b_description",
     "locked": true,
     "schema_version": 3,
     "solution": false,
     "task": false
    }
   },
   "source": [
    "### b."
   ]
  },
  {
   "cell_type": "markdown",
   "metadata": {},
   "source": [
    "### b. (a) Show that an affine transformation can map a circle to an ellipse, but cannot map an ellipse to a hyperbola or parabola.\n",
    "### (b) Prove that under an affine transformation the ratio of lengths on parallel line segments is an invariant, but that the ratio of two lengths that are not parallel is not."
   ]
  },
  {
   "cell_type": "markdown",
   "metadata": {},
   "source": [
    "a)\n",
    "We need to show that affine transformation \n",
    "$ H_a = \n",
    "\\begin{bmatrix}\n",
    "A & t \\\\\n",
    "0^T &  c\n",
    "\\end{bmatrix}$ \n",
    "transforms a circle \n",
    "$ C =\n",
    "\\begin{bmatrix}\n",
    "1 & 0 & d/2\\\\\n",
    "0 & 1 & e/2\\\\\n",
    "d/2 & e/2 & f\n",
    "\\end{bmatrix}$ \n",
    "into an ellipse. $C' = (H_a)^-T*C*(H_a)^{-1}$\n",
    "\n",
    "If Ha is nonsingular, then so is A and\n",
    "\n",
    "$ (H_a)^-1 =\n",
    "\\begin{bmatrix}\n",
    "A^-1 & -A^{-1}t \\\\\n",
    "0 &  1\n",
    "\\end{bmatrix}$ \n",
    "\n",
    "\\begin{equation}\n",
    "\\begin{bmatrix}\n",
    "(A^{-1})^{T} & 0 \\\\\n",
    "-(A^{-1}t)^{T} &  1\n",
    "\\end{bmatrix}\n",
    "\\begin{bmatrix}\n",
    "I_2 & b \\\\\n",
    "b^T &  f\n",
    "\\end{bmatrix}\n",
    "\\begin{bmatrix}\n",
    "A^{-1} & -A^{-1}t \\\\\n",
    "0 &  1\n",
    "\\end{bmatrix}\n",
    "=\n",
    "\\begin{bmatrix}\n",
    "(A^{-1})^TA^{-1} & ... \\\\\n",
    ". &  . \\\\\n",
    ". & .\n",
    "\\end{bmatrix}\n",
    "\\end{equation}\n",
    "\n",
    "Since \n",
    "$det(A^{-1})^TA^{-1} = \\frac{1}{(det A)^2} >0$\n",
    "the trasnformed equation represents an ellipse.\n",
    "So an affine transformation cannot turn an ellipse into an hyperbola because the upper-left submatrix of a hyperbola has a determinant less than zero and if we transform the ellipse we get the upper-left submatrix $(A^{−1}){−T}CA^{−1}$ that has the determinant greater than 0.\n",
    "\n",
    "b)"
   ]
  },
  {
   "cell_type": "code",
   "execution_count": null,
   "metadata": {
    "deletable": false,
    "nbgrader": {
     "cell_type": "code",
     "checksum": "1f16a363ca68b859c2afe62bbc7c85a7",
     "grade": true,
     "grade_id": "task3b",
     "locked": false,
     "points": 2,
     "schema_version": 3,
     "solution": true,
     "task": false
    }
   },
   "outputs": [],
   "source": [
    "# YOUR CODE HERE\n",
    "raise NotImplementedError()"
   ]
  }
 ],
 "metadata": {
  "kernelspec": {
   "display_name": "Python 3",
   "language": "python",
   "name": "python3"
  },
  "language_info": {
   "codemirror_mode": {
    "name": "ipython",
    "version": 3
   },
   "file_extension": ".py",
   "mimetype": "text/x-python",
   "name": "python",
   "nbconvert_exporter": "python",
   "pygments_lexer": "ipython3",
   "version": "3.7.4"
  },
  "nbTranslate": {
   "displayLangs": [
    "*"
   ],
   "hotkey": "alt-t",
   "langInMainMenu": true,
   "sourceLang": "en",
   "targetLang": "fr",
   "useGoogleTranslate": true
  }
 },
 "nbformat": 4,
 "nbformat_minor": 4
}
